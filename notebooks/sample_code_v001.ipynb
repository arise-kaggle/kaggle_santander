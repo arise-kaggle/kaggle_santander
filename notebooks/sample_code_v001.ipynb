{
 "cells": [
  {
   "cell_type": "code",
   "execution_count": 2,
   "id": "0044ac14-d420-4d1e-8691-30c1408fb0fe",
   "metadata": {},
   "outputs": [],
   "source": [
    "import pandas as pd\n",
    "import numpy as np\n",
    "import xgboost as xgb\n",
    "import polars as pl\n",
    "import gc\n",
    "import polars as pl\n",
    "\n",
    "\n",
    "np.random.seed(2018)"
   ]
  },
  {
   "cell_type": "code",
   "execution_count": 3,
   "id": "79d308d1-d8b2-443c-8d1c-6be679a794ec",
   "metadata": {},
   "outputs": [
    {
     "name": "stderr",
     "output_type": "stream",
     "text": [
      "/home/ubuntu/anaconda3/envs/py37/lib/python3.7/site-packages/IPython/core/interactiveshell.py:3553: DtypeWarning: Columns (5,8,11,15) have mixed types.Specify dtype option on import or set low_memory=False.\n",
      "  exec(code_obj, self.user_global_ns, self.user_ns)\n",
      "/home/ubuntu/anaconda3/envs/py37/lib/python3.7/site-packages/IPython/core/interactiveshell.py:3553: DtypeWarning: Columns (15) have mixed types.Specify dtype option on import or set low_memory=False.\n",
      "  exec(code_obj, self.user_global_ns, self.user_ns)\n"
     ]
    }
   ],
   "source": [
    "# データを呼び出します。\n",
    "trn = pd.read_csv('../data/input/train_ver2.csv')\n",
    "tst = pd.read_csv('../data/input/test_ver2.csv')\n",
    "\n",
    "# trn = pl.read_csv('../data/input/train_ver2.csv', null_values=[' NA', 'NA','     NA', 'P'])\n",
    "# tst = pl.read_csv('../data/input/test_ver2.csv', null_values=[' NA', 'NA','     NA'])"
   ]
  },
  {
   "cell_type": "code",
   "execution_count": 4,
   "id": "8b0db706-7a2f-47e7-afda-63df744b0595",
   "metadata": {},
   "outputs": [
    {
     "name": "stdout",
     "output_type": "stream",
     "text": [
      "(13647309, 48)\n",
      "(929615, 24)\n"
     ]
    }
   ],
   "source": [
    "print(trn.shape)\n",
    "print(tst.shape)"
   ]
  },
  {
   "cell_type": "code",
   "execution_count": 5,
   "id": "33360ab6-09bd-428e-9b35-59c619d48ea8",
   "metadata": {},
   "outputs": [],
   "source": [
    "# import numpy as np\n",
    "\n",
    "def apk(actual, predicted, k=7, default=0.0):\n",
    "    # AP@7なので、最大7個まで使用します。\n",
    "    if len(predicted) > k:\n",
    "        predicted = predicted[:k]\n",
    "\n",
    "    score = 0.0\n",
    "    num_hits = 0.0\n",
    "\n",
    "    for i, p in enumerate(predicted):\n",
    "        # 点数を付与する条件は次のとおり :\n",
    "        # 予測値が正答に存在し (‘p in actual’)\n",
    "        # 予測値に重複がなければ (‘p not in predicted[:i]’) \n",
    "        if p in actual and p not in predicted[:i]:\n",
    "            num_hits += 1.0\n",
    "            score += num_hits / (i+1.0)\n",
    "\n",
    "    # 正答値が空白である場合、ともかく 0.0点を返します。\n",
    "    if not actual:\n",
    "        return default\n",
    "\n",
    "    # 正答の個数(len(actual))として average precisionを求めます。\n",
    "    return score / min(len(actual), k)\n",
    "\n",
    "def mapk(actual, predicted, k=7, default=0.0):\n",
    "    # list of listである正答値(actual)と予測値(predicted)から顧客別 Average Precisionを求め, np.mean()を通して平均を計算します。\n",
    "    return np.mean([apk(a, p, k, default) for a, p in zip(actual, predicted)]) "
   ]
  },
  {
   "cell_type": "code",
   "execution_count": 6,
   "id": "a3e37cdb-9ced-4c7c-811f-9b4cc2a5ea5e",
   "metadata": {},
   "outputs": [
    {
     "name": "stdout",
     "output_type": "stream",
     "text": [
      "(1000000, 48)\n"
     ]
    }
   ],
   "source": [
    "## データの前処理 ##\n",
    "\n",
    "# 製品の変数を別途に保存しておきます。\n",
    "prods = trn.columns[24:].tolist()\n",
    "\n",
    "# 製品変数の欠損値をあらかじめ0に代替しておきます。\n",
    "trn[prods] = trn[prods].fillna(0.0).astype(np.int8)\n",
    "\n",
    "# 24個の製品を1つも保有していない顧客のデータを除去します。\n",
    "no_product = trn[prods].sum(axis=1) == 0\n",
    "trn = trn[~no_product]\n",
    "\n",
    "\n",
    "## あとで消す\n",
    "# メモリに乗らないのでサンプリング\n",
    "trn = trn.sample(1000000)\n",
    "print(trn.shape)\n",
    "\n",
    "# 訓練データとテストデータを統合します。テストデータにない製品変数は0で埋めます。\n",
    "for col in trn.columns[24:]:\n",
    "    tst[col] = 0\n",
    "df = pd.concat([trn, tst], axis=0)"
   ]
  },
  {
   "cell_type": "code",
   "execution_count": 7,
   "id": "c6131879-1482-4850-bade-54bbe02b461f",
   "metadata": {},
   "outputs": [],
   "source": [
    "# 学習に使用する変数を入れるlistです。\n",
    "features = []\n",
    "\n",
    "# カテゴリ変数を .factorize() 関数に通して label encodingします。\n",
    "categorical_cols = ['ind_empleado', 'pais_residencia', 'sexo', 'tiprel_1mes', 'indresi', 'indext', 'conyuemp', 'canal_entrada', 'indfall', 'tipodom', 'nomprov', 'segmento']\n",
    "for col in categorical_cols:\n",
    "    df[col], _ = df[col].factorize(na_sentinel=-99)\n",
    "features += categorical_cols\n",
    "\n",
    "# 数値型変数の特異値と欠損値を -99に代替し、整数型に変換します。\n",
    "df['age'].replace(' NA', -99, inplace=True)\n",
    "df['age'] = df['age'].astype(np.int8)\n",
    "\n",
    "df['antiguedad'].replace('     NA', -99, inplace=True)\n",
    "df['antiguedad'] = df['antiguedad'].astype(np.int8)\n",
    "\n",
    "df['renta'].replace('         NA', -99, inplace=True)\n",
    "df['renta'].fillna(-99, inplace=True)\n",
    "df['renta'] = df['renta'].astype(float).astype(np.int8)\n",
    "\n",
    "df['indrel_1mes'].replace('P', 5, inplace=True)\n",
    "df['indrel_1mes'].fillna(-99, inplace=True)\n",
    "df['indrel_1mes'] = df['indrel_1mes'].astype(float).astype(np.int8)\n",
    "\n",
    "# 学習に使用する数値型変数を featuresに追加します。\n",
    "features += ['age','antiguedad','renta','ind_nuevo','indrel','indrel_1mes','ind_actividad_cliente']\n",
    "\n",
    "# (特徴量エンジニアリング) 2つの日付変数から年度と月の情報を抽出します。\n",
    "df['fecha_alta_month'] = df['fecha_alta'].map(lambda x: 0.0 if x.__class__ is float else float(x.split('-')[1])).astype(np.int8)\n",
    "df['fecha_alta_year'] = df['fecha_alta'].map(lambda x: 0.0 if x.__class__ is float else float(x.split('-')[0])).astype(np.int16)\n",
    "features += ['fecha_alta_month', 'fecha_alta_year']\n",
    "\n",
    "df['ult_fec_cli_1t_month'] = df['ult_fec_cli_1t'].map(lambda x: 0.0 if x.__class__ is float else float(x.split('-')[1])).astype(np.int8)\n",
    "df['ult_fec_cli_1t_year'] = df['ult_fec_cli_1t'].map(lambda x: 0.0 if x.__class__ is float else float(x.split('-')[0])).astype(np.int16)\n",
    "features += ['ult_fec_cli_1t_month', 'ult_fec_cli_1t_year']\n",
    "\n",
    "# それ以外の変数の欠損値をすべて -99に代替します。\n",
    "df.fillna(-99, inplace=True)\n"
   ]
  },
  {
   "cell_type": "code",
   "execution_count": 8,
   "id": "d38ccc7e-2d42-45dd-8863-1d2576a87f4a",
   "metadata": {},
   "outputs": [],
   "source": [
    "# (特徴量エンジニアリング) lag-1 データを生成します。\n",
    "# コード 2-12と類似したコードの流れです\n",
    "\n",
    "# 日付を数字に変換する関数です。 2015-01-28は 1, 2016-06-28は 18に変換します。\n",
    "def date_to_int(str_date):\n",
    "    Y, M, D = [int(a) for a in str_date.strip().split(\"-\")] \n",
    "    int_date = (int(Y) - 2015) * 12 + int(M)\n",
    "    return int_date\n",
    "\n",
    "# 日付を数字に変換し int_dateに保存します。\n",
    "df['int_date'] = df['fecha_dato'].map(date_to_int).astype(np.int8)\n",
    "\n",
    "# データをコピーし, int_date 日付に1を加え lagを生成します。変数名に _prevを追加します。\n",
    "df_lag = df.copy()\n",
    "df_lag.columns = [col + '_prev' if col not in ['ncodpers', 'int_date'] else col for col in df.columns ]\n",
    "df_lag['int_date'] += 1"
   ]
  },
  {
   "cell_type": "code",
   "execution_count": 9,
   "id": "25a844a5-a38a-4933-ae0d-48e4a69c03c1",
   "metadata": {},
   "outputs": [
    {
     "data": {
      "text/plain": [
       "46"
      ]
     },
     "execution_count": 9,
     "metadata": {},
     "output_type": "execute_result"
    }
   ],
   "source": [
    "# 原本データと lag データを ncodperと int_date を基準として合わせます。lag データの int_dateは 1 だけ押されているため、前の月の製品情報が挿入されます。\n",
    "df_trn = df.merge(df_lag, on=['ncodpers','int_date'], how='left')\n",
    "\n",
    "# メモリの効率化のために、不必要な変数をメモリから除去します。\n",
    "del df, df_lag\n",
    "gc.collect()"
   ]
  },
  {
   "cell_type": "code",
   "execution_count": 10,
   "id": "3754d744-9eef-47ca-93e4-42cee6d79a6f",
   "metadata": {},
   "outputs": [],
   "source": [
    "# 前の月の製品情報が存在しない場合に備えて、0に代替します。\n",
    "for prod in prods:\n",
    "    prev = prod + '_prev'\n",
    "    df_trn[prev].fillna(0, inplace=True)\n",
    "df_trn.fillna(-99, inplace=True)\n",
    "\n",
    "# lag-1 変数を追加します。\n",
    "features += [feature + '_prev' for feature in features]\n",
    "features += [prod + '_prev' for prod in prods]"
   ]
  },
  {
   "cell_type": "code",
   "execution_count": 11,
   "id": "9021cfd8-6d67-45ee-8163-f6e62e6bed8b",
   "metadata": {},
   "outputs": [
    {
     "data": {
      "text/html": [
       "<div>\n",
       "<style scoped>\n",
       "    .dataframe tbody tr th:only-of-type {\n",
       "        vertical-align: middle;\n",
       "    }\n",
       "\n",
       "    .dataframe tbody tr th {\n",
       "        vertical-align: top;\n",
       "    }\n",
       "\n",
       "    .dataframe thead th {\n",
       "        text-align: right;\n",
       "    }\n",
       "</style>\n",
       "<table border=\"1\" class=\"dataframe\">\n",
       "  <thead>\n",
       "    <tr style=\"text-align: right;\">\n",
       "      <th></th>\n",
       "      <th>fecha_dato</th>\n",
       "      <th>ncodpers</th>\n",
       "      <th>ind_empleado</th>\n",
       "      <th>pais_residencia</th>\n",
       "      <th>sexo</th>\n",
       "      <th>age</th>\n",
       "      <th>fecha_alta</th>\n",
       "      <th>ind_nuevo</th>\n",
       "      <th>antiguedad</th>\n",
       "      <th>indrel</th>\n",
       "      <th>...</th>\n",
       "      <th>ind_tjcr_fin_ult1_prev</th>\n",
       "      <th>ind_valo_fin_ult1_prev</th>\n",
       "      <th>ind_viv_fin_ult1_prev</th>\n",
       "      <th>ind_nomina_ult1_prev</th>\n",
       "      <th>ind_nom_pens_ult1_prev</th>\n",
       "      <th>ind_recibo_ult1_prev</th>\n",
       "      <th>fecha_alta_month_prev</th>\n",
       "      <th>fecha_alta_year_prev</th>\n",
       "      <th>ult_fec_cli_1t_month_prev</th>\n",
       "      <th>ult_fec_cli_1t_year_prev</th>\n",
       "    </tr>\n",
       "  </thead>\n",
       "  <tbody>\n",
       "    <tr>\n",
       "      <th>0</th>\n",
       "      <td>2015-09-28</td>\n",
       "      <td>1082739</td>\n",
       "      <td>0</td>\n",
       "      <td>0</td>\n",
       "      <td>0</td>\n",
       "      <td>25</td>\n",
       "      <td>2012-10-17</td>\n",
       "      <td>0.0</td>\n",
       "      <td>35</td>\n",
       "      <td>1.0</td>\n",
       "      <td>...</td>\n",
       "      <td>0.0</td>\n",
       "      <td>0.0</td>\n",
       "      <td>0.0</td>\n",
       "      <td>0.0</td>\n",
       "      <td>0.0</td>\n",
       "      <td>0.0</td>\n",
       "      <td>-99.0</td>\n",
       "      <td>-99.0</td>\n",
       "      <td>-99.0</td>\n",
       "      <td>-99.0</td>\n",
       "    </tr>\n",
       "    <tr>\n",
       "      <th>1</th>\n",
       "      <td>2015-12-28</td>\n",
       "      <td>735499</td>\n",
       "      <td>0</td>\n",
       "      <td>0</td>\n",
       "      <td>0</td>\n",
       "      <td>44</td>\n",
       "      <td>2007-12-01</td>\n",
       "      <td>0.0</td>\n",
       "      <td>73</td>\n",
       "      <td>1.0</td>\n",
       "      <td>...</td>\n",
       "      <td>0.0</td>\n",
       "      <td>0.0</td>\n",
       "      <td>0.0</td>\n",
       "      <td>0.0</td>\n",
       "      <td>0.0</td>\n",
       "      <td>0.0</td>\n",
       "      <td>-99.0</td>\n",
       "      <td>-99.0</td>\n",
       "      <td>-99.0</td>\n",
       "      <td>-99.0</td>\n",
       "    </tr>\n",
       "    <tr>\n",
       "      <th>2</th>\n",
       "      <td>2015-07-28</td>\n",
       "      <td>1385732</td>\n",
       "      <td>0</td>\n",
       "      <td>0</td>\n",
       "      <td>0</td>\n",
       "      <td>27</td>\n",
       "      <td>2015-03-03</td>\n",
       "      <td>1.0</td>\n",
       "      <td>5</td>\n",
       "      <td>1.0</td>\n",
       "      <td>...</td>\n",
       "      <td>0.0</td>\n",
       "      <td>0.0</td>\n",
       "      <td>0.0</td>\n",
       "      <td>0.0</td>\n",
       "      <td>0.0</td>\n",
       "      <td>0.0</td>\n",
       "      <td>-99.0</td>\n",
       "      <td>-99.0</td>\n",
       "      <td>-99.0</td>\n",
       "      <td>-99.0</td>\n",
       "    </tr>\n",
       "    <tr>\n",
       "      <th>3</th>\n",
       "      <td>2016-04-28</td>\n",
       "      <td>1080490</td>\n",
       "      <td>0</td>\n",
       "      <td>0</td>\n",
       "      <td>1</td>\n",
       "      <td>26</td>\n",
       "      <td>2012-10-15</td>\n",
       "      <td>0.0</td>\n",
       "      <td>42</td>\n",
       "      <td>1.0</td>\n",
       "      <td>...</td>\n",
       "      <td>0.0</td>\n",
       "      <td>0.0</td>\n",
       "      <td>0.0</td>\n",
       "      <td>0.0</td>\n",
       "      <td>0.0</td>\n",
       "      <td>0.0</td>\n",
       "      <td>-99.0</td>\n",
       "      <td>-99.0</td>\n",
       "      <td>-99.0</td>\n",
       "      <td>-99.0</td>\n",
       "    </tr>\n",
       "    <tr>\n",
       "      <th>4</th>\n",
       "      <td>2015-04-28</td>\n",
       "      <td>1073250</td>\n",
       "      <td>0</td>\n",
       "      <td>0</td>\n",
       "      <td>0</td>\n",
       "      <td>22</td>\n",
       "      <td>2012-10-02</td>\n",
       "      <td>0.0</td>\n",
       "      <td>33</td>\n",
       "      <td>1.0</td>\n",
       "      <td>...</td>\n",
       "      <td>0.0</td>\n",
       "      <td>0.0</td>\n",
       "      <td>0.0</td>\n",
       "      <td>0.0</td>\n",
       "      <td>0.0</td>\n",
       "      <td>0.0</td>\n",
       "      <td>-99.0</td>\n",
       "      <td>-99.0</td>\n",
       "      <td>-99.0</td>\n",
       "      <td>-99.0</td>\n",
       "    </tr>\n",
       "    <tr>\n",
       "      <th>5</th>\n",
       "      <td>2015-07-28</td>\n",
       "      <td>459441</td>\n",
       "      <td>0</td>\n",
       "      <td>0</td>\n",
       "      <td>0</td>\n",
       "      <td>41</td>\n",
       "      <td>2004-02-14</td>\n",
       "      <td>0.0</td>\n",
       "      <td>-119</td>\n",
       "      <td>1.0</td>\n",
       "      <td>...</td>\n",
       "      <td>0.0</td>\n",
       "      <td>0.0</td>\n",
       "      <td>0.0</td>\n",
       "      <td>0.0</td>\n",
       "      <td>0.0</td>\n",
       "      <td>0.0</td>\n",
       "      <td>-99.0</td>\n",
       "      <td>-99.0</td>\n",
       "      <td>-99.0</td>\n",
       "      <td>-99.0</td>\n",
       "    </tr>\n",
       "    <tr>\n",
       "      <th>6</th>\n",
       "      <td>2016-05-28</td>\n",
       "      <td>1417088</td>\n",
       "      <td>0</td>\n",
       "      <td>0</td>\n",
       "      <td>0</td>\n",
       "      <td>20</td>\n",
       "      <td>2015-07-25</td>\n",
       "      <td>0.0</td>\n",
       "      <td>10</td>\n",
       "      <td>1.0</td>\n",
       "      <td>...</td>\n",
       "      <td>0.0</td>\n",
       "      <td>0.0</td>\n",
       "      <td>0.0</td>\n",
       "      <td>0.0</td>\n",
       "      <td>0.0</td>\n",
       "      <td>0.0</td>\n",
       "      <td>-99.0</td>\n",
       "      <td>-99.0</td>\n",
       "      <td>-99.0</td>\n",
       "      <td>-99.0</td>\n",
       "    </tr>\n",
       "    <tr>\n",
       "      <th>7</th>\n",
       "      <td>2015-02-28</td>\n",
       "      <td>818008</td>\n",
       "      <td>0</td>\n",
       "      <td>0</td>\n",
       "      <td>1</td>\n",
       "      <td>35</td>\n",
       "      <td>2008-11-19</td>\n",
       "      <td>0.0</td>\n",
       "      <td>80</td>\n",
       "      <td>1.0</td>\n",
       "      <td>...</td>\n",
       "      <td>0.0</td>\n",
       "      <td>0.0</td>\n",
       "      <td>0.0</td>\n",
       "      <td>0.0</td>\n",
       "      <td>0.0</td>\n",
       "      <td>0.0</td>\n",
       "      <td>-99.0</td>\n",
       "      <td>-99.0</td>\n",
       "      <td>-99.0</td>\n",
       "      <td>-99.0</td>\n",
       "    </tr>\n",
       "    <tr>\n",
       "      <th>8</th>\n",
       "      <td>2016-04-28</td>\n",
       "      <td>1506967</td>\n",
       "      <td>0</td>\n",
       "      <td>0</td>\n",
       "      <td>1</td>\n",
       "      <td>21</td>\n",
       "      <td>2015-11-19</td>\n",
       "      <td>1.0</td>\n",
       "      <td>5</td>\n",
       "      <td>1.0</td>\n",
       "      <td>...</td>\n",
       "      <td>0.0</td>\n",
       "      <td>0.0</td>\n",
       "      <td>0.0</td>\n",
       "      <td>0.0</td>\n",
       "      <td>0.0</td>\n",
       "      <td>0.0</td>\n",
       "      <td>-99.0</td>\n",
       "      <td>-99.0</td>\n",
       "      <td>-99.0</td>\n",
       "      <td>-99.0</td>\n",
       "    </tr>\n",
       "    <tr>\n",
       "      <th>9</th>\n",
       "      <td>2015-11-28</td>\n",
       "      <td>1331542</td>\n",
       "      <td>0</td>\n",
       "      <td>0</td>\n",
       "      <td>1</td>\n",
       "      <td>26</td>\n",
       "      <td>2014-10-13</td>\n",
       "      <td>0.0</td>\n",
       "      <td>13</td>\n",
       "      <td>1.0</td>\n",
       "      <td>...</td>\n",
       "      <td>0.0</td>\n",
       "      <td>0.0</td>\n",
       "      <td>0.0</td>\n",
       "      <td>0.0</td>\n",
       "      <td>0.0</td>\n",
       "      <td>0.0</td>\n",
       "      <td>10.0</td>\n",
       "      <td>2014.0</td>\n",
       "      <td>0.0</td>\n",
       "      <td>0.0</td>\n",
       "    </tr>\n",
       "  </tbody>\n",
       "</table>\n",
       "<p>10 rows × 104 columns</p>\n",
       "</div>"
      ],
      "text/plain": [
       "   fecha_dato  ncodpers  ind_empleado  pais_residencia  sexo  age  fecha_alta  \\\n",
       "0  2015-09-28   1082739             0                0     0   25  2012-10-17   \n",
       "1  2015-12-28    735499             0                0     0   44  2007-12-01   \n",
       "2  2015-07-28   1385732             0                0     0   27  2015-03-03   \n",
       "3  2016-04-28   1080490             0                0     1   26  2012-10-15   \n",
       "4  2015-04-28   1073250             0                0     0   22  2012-10-02   \n",
       "5  2015-07-28    459441             0                0     0   41  2004-02-14   \n",
       "6  2016-05-28   1417088             0                0     0   20  2015-07-25   \n",
       "7  2015-02-28    818008             0                0     1   35  2008-11-19   \n",
       "8  2016-04-28   1506967             0                0     1   21  2015-11-19   \n",
       "9  2015-11-28   1331542             0                0     1   26  2014-10-13   \n",
       "\n",
       "   ind_nuevo  antiguedad  indrel  ... ind_tjcr_fin_ult1_prev  \\\n",
       "0        0.0          35     1.0  ...                    0.0   \n",
       "1        0.0          73     1.0  ...                    0.0   \n",
       "2        1.0           5     1.0  ...                    0.0   \n",
       "3        0.0          42     1.0  ...                    0.0   \n",
       "4        0.0          33     1.0  ...                    0.0   \n",
       "5        0.0        -119     1.0  ...                    0.0   \n",
       "6        0.0          10     1.0  ...                    0.0   \n",
       "7        0.0          80     1.0  ...                    0.0   \n",
       "8        1.0           5     1.0  ...                    0.0   \n",
       "9        0.0          13     1.0  ...                    0.0   \n",
       "\n",
       "   ind_valo_fin_ult1_prev  ind_viv_fin_ult1_prev  ind_nomina_ult1_prev  \\\n",
       "0                     0.0                    0.0                   0.0   \n",
       "1                     0.0                    0.0                   0.0   \n",
       "2                     0.0                    0.0                   0.0   \n",
       "3                     0.0                    0.0                   0.0   \n",
       "4                     0.0                    0.0                   0.0   \n",
       "5                     0.0                    0.0                   0.0   \n",
       "6                     0.0                    0.0                   0.0   \n",
       "7                     0.0                    0.0                   0.0   \n",
       "8                     0.0                    0.0                   0.0   \n",
       "9                     0.0                    0.0                   0.0   \n",
       "\n",
       "   ind_nom_pens_ult1_prev  ind_recibo_ult1_prev  fecha_alta_month_prev  \\\n",
       "0                     0.0                   0.0                  -99.0   \n",
       "1                     0.0                   0.0                  -99.0   \n",
       "2                     0.0                   0.0                  -99.0   \n",
       "3                     0.0                   0.0                  -99.0   \n",
       "4                     0.0                   0.0                  -99.0   \n",
       "5                     0.0                   0.0                  -99.0   \n",
       "6                     0.0                   0.0                  -99.0   \n",
       "7                     0.0                   0.0                  -99.0   \n",
       "8                     0.0                   0.0                  -99.0   \n",
       "9                     0.0                   0.0                   10.0   \n",
       "\n",
       "   fecha_alta_year_prev  ult_fec_cli_1t_month_prev  ult_fec_cli_1t_year_prev  \n",
       "0                 -99.0                      -99.0                     -99.0  \n",
       "1                 -99.0                      -99.0                     -99.0  \n",
       "2                 -99.0                      -99.0                     -99.0  \n",
       "3                 -99.0                      -99.0                     -99.0  \n",
       "4                 -99.0                      -99.0                     -99.0  \n",
       "5                 -99.0                      -99.0                     -99.0  \n",
       "6                 -99.0                      -99.0                     -99.0  \n",
       "7                 -99.0                      -99.0                     -99.0  \n",
       "8                 -99.0                      -99.0                     -99.0  \n",
       "9                2014.0                        0.0                       0.0  \n",
       "\n",
       "[10 rows x 104 columns]"
      ]
     },
     "execution_count": 11,
     "metadata": {},
     "output_type": "execute_result"
    }
   ],
   "source": [
    "df_trn.head(10)"
   ]
  },
  {
   "cell_type": "code",
   "execution_count": 12,
   "id": "f0bfd7d5-d5a4-4ab9-9bc6-311898f0c356",
   "metadata": {},
   "outputs": [],
   "source": [
    "###\n",
    "### Baseline モデル以後、多様な特徴量エンジニアリングをここに追加します。\n",
    "###\n",
    "\n",
    "\n",
    "## モデル学習\n",
    "# 学習のため、データを訓練、検証用に分離します。\n",
    "# 学習には 2016-01-28 ~ 2016-04-28 のデータだけを使用し、検証には 2016-05-28 のデータを使用します。\n",
    "use_dates = ['2016-01-28', '2016-02-28', '2016-03-28', '2016-04-28', '2016-05-28']\n",
    "trn = df_trn[df_trn['fecha_dato'].isin(use_dates)]\n",
    "tst = df_trn[df_trn['fecha_dato'] == '2016-06-28']\n",
    "del df_trn\n",
    "\n"
   ]
  },
  {
   "cell_type": "code",
   "execution_count": 13,
   "id": "31207453-ac46-472a-a08d-50d236108ad0",
   "metadata": {},
   "outputs": [],
   "source": [
    "# 訓練データから新規購買件数だけを抽出します。\n",
    "X = []\n",
    "Y = []\n",
    "for i, prod in enumerate(prods):\n",
    "    prev = prod + '_prev'\n",
    "    prX = trn[(trn[prod] == 1) & (trn[prev] == 0)]\n",
    "    prY = np.zeros(prX.shape[0], dtype=np.int8) + i\n",
    "    X.append(prX)\n",
    "    Y.append(prY)\n",
    "XY = pd.concat(X)\n",
    "Y = np.hstack(Y)\n",
    "XY['y'] = Y\n",
    "\n",
    "# 訓練、検証データに分離します。\n",
    "vld_date = '2016-05-28'\n",
    "XY_trn = XY[XY['fecha_dato'] != vld_date]\n",
    "XY_vld = XY[XY['fecha_dato'] == vld_date]"
   ]
  },
  {
   "cell_type": "code",
   "execution_count": 14,
   "id": "0efadad4-90ff-444e-b778-b83486421249",
   "metadata": {},
   "outputs": [
    {
     "name": "stdout",
     "output_type": "stream",
     "text": [
      "[21:14:39] WARNING: ../src/learner.cc:627: \n",
      "Parameters: { \"silent\" } might not be used.\n",
      "\n",
      "  This could be a false alarm, with some parameters getting used by language bindings but\n",
      "  then being mistakenly passed down to XGBoost core, or some parameter actually being used\n",
      "  but getting flagged wrongly here. Please open an issue if you find any such cases.\n",
      "\n",
      "\n",
      "[0]\ttrain-mlogloss:2.78055\teval-mlogloss:2.79252\n",
      "[1]\ttrain-mlogloss:2.60405\teval-mlogloss:2.62112\n",
      "[2]\ttrain-mlogloss:2.47473\teval-mlogloss:2.49480\n",
      "[3]\ttrain-mlogloss:2.37417\teval-mlogloss:2.39668\n",
      "[4]\ttrain-mlogloss:2.29027\teval-mlogloss:2.31460\n",
      "[5]\ttrain-mlogloss:2.21904\teval-mlogloss:2.24500\n",
      "[6]\ttrain-mlogloss:2.15778\teval-mlogloss:2.18517\n",
      "[7]\ttrain-mlogloss:2.10410\teval-mlogloss:2.13279\n",
      "[8]\ttrain-mlogloss:2.05691\teval-mlogloss:2.08673\n",
      "[9]\ttrain-mlogloss:2.01527\teval-mlogloss:2.04621\n"
     ]
    }
   ],
   "source": [
    "# XGBoost モデルの parameterを設定します。\n",
    "param = {\n",
    "    'booster': 'gbtree',\n",
    "    'max_depth': 8,\n",
    "    'nthread': 4,\n",
    "    'num_class': len(prods),\n",
    "    'objective': 'multi:softprob',\n",
    "    'silent': 1,\n",
    "    'eval_metric': 'mlogloss',\n",
    "    'eta': 0.1,\n",
    "    'min_child_weight': 10,\n",
    "    'colsample_bytree': 0.8,\n",
    "    'colsample_bylevel': 0.9,\n",
    "    'seed': 2018,\n",
    "    }\n",
    "\n",
    "# 訓練、検証データを XGBoost 形態に変換します。\n",
    "X_trn = XY_trn[features].values\n",
    "Y_trn = XY_trn['y'].values\n",
    "dtrn = xgb.DMatrix(X_trn, label=Y_trn, feature_names=features)\n",
    "\n",
    "X_vld = XY_vld[features].values\n",
    "Y_vld = XY_vld['y'].values\n",
    "dvld = xgb.DMatrix(X_vld, label=Y_vld, feature_names=features)\n",
    "\n",
    "# XGBoost モデルを訓練データで学習させます！\n",
    "watch_list = [(dtrn, 'train'), (dvld, 'eval')]\n",
    "model = xgb.train(param, dtrn, num_boost_round=10, evals=watch_list, early_stopping_rounds=20)\n",
    "\n",
    "# 学習したモデルを保存します。\n",
    "import pickle\n",
    "pickle.dump(model, open(\"xgb.baseline.pkl\", \"wb\"))\n",
    "best_ntree_limit = model.best_ntree_limit"
   ]
  },
  {
   "cell_type": "code",
   "execution_count": 15,
   "id": "a9d00ee5-bc50-4eb9-b438-cfc193671d06",
   "metadata": {},
   "outputs": [
    {
     "name": "stderr",
     "output_type": "stream",
     "text": [
      "/home/ubuntu/anaconda3/envs/py37/lib/python3.7/site-packages/ipykernel_launcher.py:9: SettingWithCopyWarning: \n",
      "A value is trying to be set on a copy of a slice from a DataFrame.\n",
      "Try using .loc[row_indexer,col_indexer] = value instead\n",
      "\n",
      "See the caveats in the documentation: https://pandas.pydata.org/pandas-docs/stable/user_guide/indexing.html#returning-a-view-versus-a-copy\n",
      "  if __name__ == \"__main__\":\n"
     ]
    }
   ],
   "source": [
    "# MAP@7 評価基準のための準備作業です。\n",
    "# 顧客識別番号を抽出します。\n",
    "vld = trn[trn['fecha_dato'] == vld_date]\n",
    "ncodpers_vld = vld['ncodpers'].values\n",
    "# 検証データから新規購買を求めます。\n",
    "for prod in prods:\n",
    "    prev = prod + '_prev'\n",
    "    padd = prod + '_add'\n",
    "    vld[padd] = vld[prod] - vld[prev]    \n",
    "add_vld = vld[[prod + '_add' for prod in prods]].values\n",
    "add_vld_list = [list() for i in range(len(ncodpers_vld))]\n",
    "\n",
    "# 顧客別新規購買正答値を add_vld_listに保存し、総 countを count_vldに保存します。\n",
    "count_vld = 0\n",
    "for ncodper in range(len(ncodpers_vld)):\n",
    "    for prod in range(len(prods)):\n",
    "        if add_vld[ncodper, prod] > 0:\n",
    "            add_vld_list[ncodper].append(prod)\n",
    "            count_vld += 1"
   ]
  },
  {
   "cell_type": "code",
   "execution_count": 16,
   "id": "40c6a089-265c-41f4-afa1-b3721a070b13",
   "metadata": {},
   "outputs": [
    {
     "name": "stdout",
     "output_type": "stream",
     "text": [
      "0.9151528755351045\n"
     ]
    }
   ],
   "source": [
    "# 検証データから得ることのできる MAP@7 の最高点をあらかじめ求めておきます。(0.042663)\n",
    "print(mapk(add_vld_list, add_vld_list, 7, 0.0))"
   ]
  },
  {
   "cell_type": "code",
   "execution_count": 17,
   "id": "fed3494d-89e4-466b-9303-c7651b5eea71",
   "metadata": {},
   "outputs": [
    {
     "name": "stderr",
     "output_type": "stream",
     "text": [
      "/home/ubuntu/anaconda3/envs/py37/lib/python3.7/site-packages/xgboost/core.py:94: UserWarning: ntree_limit is deprecated, use `iteration_range` or model slicing instead.\n",
      "  UserWarning\n"
     ]
    }
   ],
   "source": [
    "# 検証データに対する予測値を求めます。\n",
    "X_vld = vld[features].values\n",
    "# Y_vld = vld['y'].values\n",
    "# dvld = xgb.DMatrix(X_vld, label=Y_vld, feature_names=features)\n",
    "dvld = xgb.DMatrix(X_vld, feature_names=features)\n",
    "preds_vld = model.predict(dvld, ntree_limit=best_ntree_limit)\n",
    "\n",
    "# 前の月に保有していた商品は新規購買が不可能なので、確率値からあらかじめ1を引いておきます。\n",
    "preds_vld = preds_vld - vld[[prod + '_prev' for prod in prods]].values"
   ]
  },
  {
   "cell_type": "code",
   "execution_count": 18,
   "id": "2bc0e26f-7aa5-4f49-9df9-571a3ee34cd7",
   "metadata": {},
   "outputs": [
    {
     "name": "stdout",
     "output_type": "stream",
     "text": [
      "(62371,)\n"
     ]
    },
    {
     "data": {
      "text/plain": [
       "array([1417088,  289106, 1466296, ..., 1303736,  575408, 1400690])"
      ]
     },
     "execution_count": 18,
     "metadata": {},
     "output_type": "execute_result"
    }
   ],
   "source": [
    "print(ncodpers_vld.shape)\n",
    "ncodpers_vld"
   ]
  },
  {
   "cell_type": "code",
   "execution_count": 19,
   "id": "77502936-e348-46ed-8fc3-ce9f0e1f440b",
   "metadata": {},
   "outputs": [
    {
     "name": "stdout",
     "output_type": "stream",
     "text": [
      "(62371, 24)\n"
     ]
    },
    {
     "data": {
      "text/plain": [
       "array([[ 0.01961433,  0.019596  ,  0.54556876, ...,  0.01962773,\n",
       "         0.01966964,  0.02018902],\n",
       "       [ 0.02344646,  0.02342454,  0.190479  , ...,  0.02348462,\n",
       "         0.02354543,  0.02390127],\n",
       "       [ 0.01964287,  0.01962451,  0.54636246, ...,  0.01971952,\n",
       "         0.01976213,  0.02046088],\n",
       "       ...,\n",
       "       [ 0.02217513,  0.0221544 ,  0.35454074, ...,  0.02221122,\n",
       "         0.02240133,  0.02624249],\n",
       "       [ 0.02030805,  0.02028907, -0.91057862, ...,  0.03747312,\n",
       "         0.04041447,  0.2178639 ],\n",
       "       [ 0.02420148,  0.02417886,  0.20082623, ...,  0.04796703,\n",
       "         0.04985204,  0.11236265]])"
      ]
     },
     "execution_count": 19,
     "metadata": {},
     "output_type": "execute_result"
    }
   ],
   "source": [
    "print(preds_vld.shape)\n",
    "preds_vld"
   ]
  },
  {
   "cell_type": "code",
   "execution_count": 20,
   "id": "406fff77-13fb-4710-a508-137b719b920d",
   "metadata": {},
   "outputs": [],
   "source": [
    "# 検証データの予測上位7個を抽出します。\n",
    "result_vld = []\n",
    "for ncodper, pred in zip(ncodpers_vld, preds_vld):\n",
    "    y_prods = [(y,p,ip) for y,p,ip in zip(pred, prods, range(len(prods)))]\n",
    "    y_prods = sorted(y_prods, key=lambda a: a[0], reverse=True)[:7]\n",
    "    result_vld.append([ip for y,p,ip in y_prods])"
   ]
  },
  {
   "cell_type": "code",
   "execution_count": 21,
   "id": "7f745c94-5f5e-4d46-aaf4-da2575434152",
   "metadata": {},
   "outputs": [
    {
     "name": "stdout",
     "output_type": "stream",
     "text": [
      "0.776599666973404\n"
     ]
    }
   ],
   "source": [
    "# 検証データの MAP@7の点数を求めます。(0.036466)\n",
    "print(mapk(add_vld_list, result_vld, 7, 0.0))"
   ]
  },
  {
   "cell_type": "code",
   "execution_count": 74,
   "id": "420a115a-63b7-4445-a154-847bcf952a9b",
   "metadata": {},
   "outputs": [
    {
     "name": "stdout",
     "output_type": "stream",
     "text": [
      "[22:16:12] WARNING: ../src/learner.cc:627: \n",
      "Parameters: { \"silent\" } might not be used.\n",
      "\n",
      "  This could be a false alarm, with some parameters getting used by language bindings but\n",
      "  then being mistakenly passed down to XGBoost core, or some parameter actually being used\n",
      "  but getting flagged wrongly here. Please open an issue if you find any such cases.\n",
      "\n",
      "\n",
      "[0]\ttrain-mlogloss:2.78286\n",
      "[1]\ttrain-mlogloss:2.60728\n",
      "[2]\ttrain-mlogloss:2.47849\n",
      "[3]\ttrain-mlogloss:2.37827\n",
      "[4]\ttrain-mlogloss:2.29468\n",
      "[5]\ttrain-mlogloss:2.22362\n",
      "[6]\ttrain-mlogloss:2.16257\n",
      "[7]\ttrain-mlogloss:2.10908\n",
      "[8]\ttrain-mlogloss:2.06201\n",
      "[9]\ttrain-mlogloss:2.02054\n",
      "[10]\ttrain-mlogloss:1.98320\n",
      "[11]\ttrain-mlogloss:1.95005\n",
      "[12]\ttrain-mlogloss:1.91980\n",
      "[13]\ttrain-mlogloss:1.89287\n",
      "[14]\ttrain-mlogloss:1.86801\n",
      "Feature importance:\n",
      "('antiguedad', 4995.0)\n",
      "('age', 4864.0)\n",
      "('renta', 3643.0)\n",
      "('nomprov', 2781.0)\n",
      "('canal_entrada', 2477.0)\n",
      "('fecha_alta_month', 2435.0)\n",
      "('fecha_alta_year', 2347.0)\n",
      "('segmento', 1018.0)\n",
      "('sexo', 861.0)\n",
      "('tiprel_1mes', 620.0)\n",
      "('ind_actividad_cliente', 566.0)\n",
      "('indext', 436.0)\n",
      "('pais_residencia', 155.0)\n",
      "('ind_nuevo', 145.0)\n",
      "('ind_empleado', 50.0)\n",
      "('indfall', 47.0)\n",
      "('ind_cno_fin_ult1_prev', 46.0)\n",
      "('ind_cco_fin_ult1_prev', 42.0)\n",
      "('ind_recibo_ult1_prev', 42.0)\n",
      "('indresi', 33.0)\n",
      "('age_prev', 29.0)\n",
      "('ind_empleado_prev', 28.0)\n",
      "('antiguedad_prev', 20.0)\n",
      "('canal_entrada_prev', 16.0)\n",
      "('ind_nom_pens_ult1_prev', 16.0)\n",
      "('fecha_alta_month_prev', 12.0)\n",
      "('renta_prev', 11.0)\n",
      "('conyuemp', 9.0)\n",
      "('fecha_alta_year_prev', 9.0)\n",
      "('ind_nomina_ult1_prev', 9.0)\n",
      "('pais_residencia_prev', 7.0)\n",
      "('nomprov_prev', 7.0)\n",
      "('ind_tjcr_fin_ult1_prev', 6.0)\n",
      "('indrel_1mes', 4.0)\n",
      "('segmento_prev', 4.0)\n",
      "('ind_ecue_fin_ult1_prev', 4.0)\n",
      "('sexo_prev', 3.0)\n",
      "('ind_reca_fin_ult1_prev', 3.0)\n",
      "('ind_actividad_cliente_prev', 2.0)\n",
      "('tiprel_1mes_prev', 1.0)\n",
      "('ind_nuevo_prev', 1.0)\n",
      "('ind_ctpp_fin_ult1_prev', 1.0)\n"
     ]
    },
    {
     "name": "stderr",
     "output_type": "stream",
     "text": [
      "/home/ubuntu/anaconda3/envs/py37/lib/python3.7/site-packages/xgboost/core.py:94: UserWarning: ntree_limit is deprecated, use `iteration_range` or model slicing instead.\n",
      "  UserWarning\n"
     ]
    }
   ],
   "source": [
    "# XGBoost モデルを全体の訓練データで学習します。\n",
    "X_all = XY[features].values\n",
    "Y_all = XY['y'].values\n",
    "dall = xgb.DMatrix(X_all, label=Y_all, feature_names=features)\n",
    "watch_list = [(dall, 'train')]\n",
    "# ツリーの個数を増加したデータの量に比例して増やします。\n",
    "best_ntree_limit = int(best_ntree_limit * (len(XY_trn) + len(XY_vld)) / len(XY_trn))\n",
    "# XGBoost モデル再学習！\n",
    "model = xgb.train(param, dall, num_boost_round=best_ntree_limit, evals=watch_list)\n",
    "\n",
    "# 変数の重要度を出力してみます。予想していた変数が上位に来ていますか？\n",
    "print(\"Feature importance:\")\n",
    "for kv in sorted([(k,v) for k,v in model.get_fscore().items()], key=lambda kv: kv[1], reverse=True):\n",
    "    print(kv)\n",
    "\n",
    "# Kaggleに提出するため、テストデータに対する予測値を求めます。\n",
    "X_tst = tst[features].values\n",
    "dtst = xgb.DMatrix(X_tst, feature_names=features)\n",
    "preds_tst = model.predict(dtst, ntree_limit=best_ntree_limit)\n",
    "ncodpers_tst = tst['ncodpers'].values\n",
    "preds_tst = preds_tst - tst[[prod + '_prev' for prod in prods]].values\n",
    "\n"
   ]
  },
  {
   "cell_type": "code",
   "execution_count": null,
   "id": "8f2ada0e-06e5-40ba-9c6d-90b5f75098fa",
   "metadata": {},
   "outputs": [],
   "source": [
    "make_submission(io.BytesIO() if cv else gzip.open(\"tmp/%s.lightgbm.csv.gz\" % str_date, \"wb\"), Y_test_lgbm - Y_prev, C)"
   ]
  },
  {
   "cell_type": "code",
   "execution_count": 57,
   "id": "d3819923-d26e-4634-a393-0f6da963d8c9",
   "metadata": {},
   "outputs": [],
   "source": [
    "def make_submission(f, Y_test, C):\n",
    "    \n",
    "    Y_ret = []\n",
    "    \n",
    "    # ファイルの最初の行にheaderを書き込みます。\n",
    "    f.write(\"ncodpers,added_products\\n\".encode('utf-8'))\n",
    "    # 顧客識別番号(C)と、予測結果(Y_test)の for loop\n",
    "    for c, y_test in zip(C, Y_test):\n",
    "        # (確率値、金融変数名、金融変数id)の tupleを求めます。\n",
    "        # y_prods = [(y,p,ip) for y,p,ip in zip(y_test, products, range(len(products)))]\n",
    "        y_prods = [[y,p,ip] for y,p,ip in zip(y_test, products, range(len(products)))]\n",
    "        # 確率値をもとに、上位7個の結果だけを抽出します。\n",
    "        y_prods = sorted(y_prods, key=lambda a: a[0], reverse=True)[:7]\n",
    "        # 金融変数idを Y_retに保存します。\n",
    "        Y_ret.append([ip for y,p,ip in y_prods])\n",
    "        y_prods = [p for y,p,ip in y_prods]\n",
    "        # ファイルに “顧客識別番号、7個の金融変数”を書き込みます。\n",
    "        f.write((\"%s,%s\\n\" % (int(c), \" \".join(y_prods))).encode('utf-8'))\n",
    "    # 上位7個の予測値を返します。\n",
    "    return Y_ret"
   ]
  },
  {
   "cell_type": "code",
   "execution_count": 65,
   "id": "1787c6d1-1ceb-4f99-a7f5-55b64156572e",
   "metadata": {},
   "outputs": [
    {
     "data": {
      "text/plain": [
       "(929615,)"
      ]
     },
     "execution_count": 65,
     "metadata": {},
     "output_type": "execute_result"
    }
   ],
   "source": [
    "ncodpers_tst.shape"
   ]
  },
  {
   "cell_type": "code",
   "execution_count": 66,
   "id": "94217ff7-9d54-431f-b346-7929d419c468",
   "metadata": {},
   "outputs": [
    {
     "data": {
      "text/plain": [
       "(929615, 24)"
      ]
     },
     "execution_count": 66,
     "metadata": {},
     "output_type": "execute_result"
    }
   ],
   "source": [
    "preds_tst.shape"
   ]
  },
  {
   "cell_type": "code",
   "execution_count": 79,
   "id": "eb80fd2b-bfd0-4887-a40d-d2d20f8c9005",
   "metadata": {},
   "outputs": [],
   "source": [
    "str_date = '20230227'\n",
    "\n",
    "# 提出ファイルを生成します。\n",
    "submit_file = open('xgb.baseline.2015-06-28', 'w')\n",
    "# submit_file = open(\"%s.lightgbm.csv\" % str_date, \"wb\")\n",
    "submit_file.write('ncodpers,added_products\\n')\n",
    "# submit_file.write('ncodpers,added_products\\n')\n",
    "for ncodper, pred in zip(ncodpers_tst, preds_tst):\n",
    "    y_prods = [(y,p,ip) for y,p,ip in zip(pred, prods, range(len(prods)))]\n",
    "    y_prods = sorted(y_prods, key=lambda a: a[0], reverse=True)[:7]\n",
    "    y_prods = [p for y,p,ip in y_prods]\n",
    "    submit_file.write('{},{}\\n'.format(int(ncodper), ' '.join(y_prods)))"
   ]
  },
  {
   "cell_type": "code",
   "execution_count": 82,
   "id": "9a4f11ab-f8fa-460c-b567-9f9a9f4d3d72",
   "metadata": {},
   "outputs": [],
   "source": [
    "# test_preds = []\n",
    "# for row in sample.values:\n",
    "#     id = row[0]\n",
    "#     p = train_preds[id]\n",
    "#     test_preds.append(' '.join(p))\n",
    "\n",
    "# sample['added_products'] = test_preds\n",
    "# sample.to_csv('collab_sub.csv', index=False)\n",
    "\n",
    "# submit_file = pd.DataFrame()\n",
    "# C_list = []\n",
    "# test_preds = []\n",
    "# for ncodper, pred in zip(ncodpers_tst, preds_tst):\n",
    "#     y_prods = [(y,p,ip) for y,p,ip in zip(pred, prods, range(len(prods)))]\n",
    "#     y_prods = sorted(y_prods, key=lambda a: a[0], reverse=True)[:7]\n",
    "#     y_prods = [p for y,p,ip in y_prods]\n",
    "#     C_list.append(ncodper)\n",
    "#     test_preds.append(' '.join(y_prods))\n",
    " \n",
    "# submit_file['ncodpers'] = C_list\n",
    "# submit_file['added_products'] = test_preds\n",
    "# submit_file.to_csv('collab_sub.csv', index=False)\n",
    "    \n",
    "# submit_file.write('{},{}\\n'.format(int(ncodper), ' '.join(y_prods)))"
   ]
  },
  {
   "cell_type": "code",
   "execution_count": null,
   "id": "e32ecc19-85d4-4051-94eb-5ba36e9da4af",
   "metadata": {},
   "outputs": [],
   "source": [
    "def make_submission(ncodpers_tst, preds_tst)\n",
    "\n",
    "    submit_file = pd.DataFrame()\n",
    "    C_list = []\n",
    "    test_preds = []\n",
    "    for ncodper, pred in zip(ncodpers_tst, preds_tst):\n",
    "        y_prods = [(y,p,ip) for y,p,ip in zip(pred, prods, range(len(prods)))]\n",
    "        y_prods = sorted(y_prods, key=lambda a: a[0], reverse=True)[:7]\n",
    "        y_prods = [p for y,p,ip in y_prods]\n",
    "        C_list.append(ncodper)\n",
    "        test_preds.append(' '.join(y_prods))\n",
    "\n",
    "    submit_file['ncodpers'] = C_list\n",
    "    submit_file['added_products'] = test_preds\n",
    "    submit_file.to_csv('../output/collab_sub.csv', index=False)"
   ]
  },
  {
   "cell_type": "code",
   "execution_count": null,
   "id": "abdf062a-79fb-4163-bb26-998590821a17",
   "metadata": {},
   "outputs": [],
   "source": []
  },
  {
   "cell_type": "code",
   "execution_count": 83,
   "id": "56442b7c-00a5-4ea2-a672-03590ea0e445",
   "metadata": {},
   "outputs": [
    {
     "data": {
      "text/plain": [
       "(929615, 2)"
      ]
     },
     "execution_count": 83,
     "metadata": {},
     "output_type": "execute_result"
    }
   ],
   "source": [
    "submit_file.shape"
   ]
  },
  {
   "cell_type": "code",
   "execution_count": 29,
   "id": "363641aa-011a-4eb3-bcaf-c4ee451e3df8",
   "metadata": {},
   "outputs": [],
   "source": [
    "products = prods.copy()"
   ]
  },
  {
   "cell_type": "code",
   "execution_count": 28,
   "id": "67efa7eb-7f41-4444-bac2-ed7cf7459ac4",
   "metadata": {},
   "outputs": [
    {
     "data": {
      "text/plain": [
       "(929615, 24)"
      ]
     },
     "execution_count": 28,
     "metadata": {},
     "output_type": "execute_result"
    }
   ],
   "source": [
    "preds_tst.shape"
   ]
  },
  {
   "cell_type": "code",
   "execution_count": null,
   "id": "6b8fd82f-70e8-498a-8c6c-02cbf015d69a",
   "metadata": {},
   "outputs": [],
   "source": [
    "zip((1,),(10,))"
   ]
  },
  {
   "cell_type": "code",
   "execution_count": 58,
   "id": "74822db2-9936-4652-ab65-124e81312955",
   "metadata": {},
   "outputs": [
    {
     "name": "stdout",
     "output_type": "stream",
     "text": [
      "['ind_ahor_fin_ult1', 'ind_aval_fin_ult1', 'ind_cco_fin_ult1', 'ind_cder_fin_ult1', 'ind_cno_fin_ult1', 'ind_ctju_fin_ult1', 'ind_ctma_fin_ult1', 'ind_ctop_fin_ult1', 'ind_ctpp_fin_ult1', 'ind_deco_fin_ult1', 'ind_deme_fin_ult1', 'ind_dela_fin_ult1', 'ind_ecue_fin_ult1', 'ind_fond_fin_ult1', 'ind_hip_fin_ult1', 'ind_plan_fin_ult1', 'ind_pres_fin_ult1', 'ind_reca_fin_ult1', 'ind_tjcr_fin_ult1', 'ind_valo_fin_ult1', 'ind_viv_fin_ult1', 'ind_nomina_ult1', 'ind_nom_pens_ult1', 'ind_recibo_ult1']\n"
     ]
    },
    {
     "ename": "TypeError",
     "evalue": "zip argument #1 must support iteration",
     "output_type": "error",
     "traceback": [
      "\u001b[0;31m---------------------------------------------------------------------------\u001b[0m",
      "\u001b[0;31mTypeError\u001b[0m                                 Traceback (most recent call last)",
      "\u001b[0;32m/tmp/ipykernel_5360/2425107428.py\u001b[0m in \u001b[0;36m<module>\u001b[0;34m\u001b[0m\n\u001b[1;32m      6\u001b[0m \u001b[0;31m# products = prods.copy()\u001b[0m\u001b[0;34m\u001b[0m\u001b[0;34m\u001b[0m\u001b[0;34m\u001b[0m\u001b[0m\n\u001b[1;32m      7\u001b[0m \u001b[0;34m\u001b[0m\u001b[0m\n\u001b[0;32m----> 8\u001b[0;31m \u001b[0mmake_submission\u001b[0m\u001b[0;34m(\u001b[0m\u001b[0mgzip\u001b[0m\u001b[0;34m.\u001b[0m\u001b[0mopen\u001b[0m\u001b[0;34m(\u001b[0m\u001b[0;34m\"20230226.xgboost-lightgbm.csv.gz\"\u001b[0m\u001b[0;34m,\u001b[0m \u001b[0;34m\"wb\"\u001b[0m\u001b[0;34m)\u001b[0m\u001b[0;34m,\u001b[0m \u001b[0mncodpers_tst\u001b[0m\u001b[0;34m,\u001b[0m \u001b[0mpreds_tst\u001b[0m\u001b[0;34m)\u001b[0m\u001b[0;34m\u001b[0m\u001b[0;34m\u001b[0m\u001b[0m\n\u001b[0m",
      "\u001b[0;32m/tmp/ipykernel_5360/2702652777.py\u001b[0m in \u001b[0;36mmake_submission\u001b[0;34m(f, Y_test, C)\u001b[0m\n\u001b[1;32m      9\u001b[0m         \u001b[0;31m# (確率値、金融変数名、金融変数id)の tupleを求めます。\u001b[0m\u001b[0;34m\u001b[0m\u001b[0;34m\u001b[0m\u001b[0;34m\u001b[0m\u001b[0m\n\u001b[1;32m     10\u001b[0m         \u001b[0;31m# y_prods = [(y,p,ip) for y,p,ip in zip(y_test, products, range(len(products)))]\u001b[0m\u001b[0;34m\u001b[0m\u001b[0;34m\u001b[0m\u001b[0;34m\u001b[0m\u001b[0m\n\u001b[0;32m---> 11\u001b[0;31m         \u001b[0my_prods\u001b[0m \u001b[0;34m=\u001b[0m \u001b[0;34m[\u001b[0m\u001b[0;34m[\u001b[0m\u001b[0my\u001b[0m\u001b[0;34m,\u001b[0m\u001b[0mp\u001b[0m\u001b[0;34m,\u001b[0m\u001b[0mip\u001b[0m\u001b[0;34m]\u001b[0m \u001b[0;32mfor\u001b[0m \u001b[0my\u001b[0m\u001b[0;34m,\u001b[0m\u001b[0mp\u001b[0m\u001b[0;34m,\u001b[0m\u001b[0mip\u001b[0m \u001b[0;32min\u001b[0m \u001b[0mzip\u001b[0m\u001b[0;34m(\u001b[0m\u001b[0my_test\u001b[0m\u001b[0;34m,\u001b[0m \u001b[0mproducts\u001b[0m\u001b[0;34m,\u001b[0m \u001b[0mrange\u001b[0m\u001b[0;34m(\u001b[0m\u001b[0mlen\u001b[0m\u001b[0;34m(\u001b[0m\u001b[0mproducts\u001b[0m\u001b[0;34m)\u001b[0m\u001b[0;34m)\u001b[0m\u001b[0;34m)\u001b[0m\u001b[0;34m]\u001b[0m\u001b[0;34m\u001b[0m\u001b[0;34m\u001b[0m\u001b[0m\n\u001b[0m\u001b[1;32m     12\u001b[0m         \u001b[0;31m# 確率値をもとに、上位7個の結果だけを抽出します。\u001b[0m\u001b[0;34m\u001b[0m\u001b[0;34m\u001b[0m\u001b[0;34m\u001b[0m\u001b[0m\n\u001b[1;32m     13\u001b[0m         \u001b[0my_prods\u001b[0m \u001b[0;34m=\u001b[0m \u001b[0msorted\u001b[0m\u001b[0;34m(\u001b[0m\u001b[0my_prods\u001b[0m\u001b[0;34m,\u001b[0m \u001b[0mkey\u001b[0m\u001b[0;34m=\u001b[0m\u001b[0;32mlambda\u001b[0m \u001b[0ma\u001b[0m\u001b[0;34m:\u001b[0m \u001b[0ma\u001b[0m\u001b[0;34m[\u001b[0m\u001b[0;36m0\u001b[0m\u001b[0;34m]\u001b[0m\u001b[0;34m,\u001b[0m \u001b[0mreverse\u001b[0m\u001b[0;34m=\u001b[0m\u001b[0;32mTrue\u001b[0m\u001b[0;34m)\u001b[0m\u001b[0;34m[\u001b[0m\u001b[0;34m:\u001b[0m\u001b[0;36m7\u001b[0m\u001b[0;34m]\u001b[0m\u001b[0;34m\u001b[0m\u001b[0;34m\u001b[0m\u001b[0m\n",
      "\u001b[0;31mTypeError\u001b[0m: zip argument #1 must support iteration"
     ]
    }
   ],
   "source": [
    "# ファイル圧縮用途\n",
    "import gzip    \n",
    "import pickle    \n",
    "import zlib    \n",
    "\n",
    "# products = prods.copy()\n",
    "\n",
    "make_submission(gzip.open(\"20230226.xgboost-lightgbm.csv.gz\", \"wb\"), ncodpers_tst, preds_tst)"
   ]
  },
  {
   "cell_type": "code",
   "execution_count": null,
   "id": "77eb9ee1-ae1d-4b26-b644-afb879a07a54",
   "metadata": {},
   "outputs": [],
   "source": []
  }
 ],
 "metadata": {
  "kernelspec": {
   "display_name": "Python 3 (ipykernel)",
   "language": "python",
   "name": "python3"
  },
  "language_info": {
   "codemirror_mode": {
    "name": "ipython",
    "version": 3
   },
   "file_extension": ".py",
   "mimetype": "text/x-python",
   "name": "python",
   "nbconvert_exporter": "python",
   "pygments_lexer": "ipython3",
   "version": "3.7.12"
  }
 },
 "nbformat": 4,
 "nbformat_minor": 5
}
